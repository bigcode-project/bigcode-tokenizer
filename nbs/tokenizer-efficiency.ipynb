{
 "cells": [
  {
   "cell_type": "code",
   "execution_count": 62,
   "id": "313da721-f77b-4c81-ab7d-210b7d4c9a30",
   "metadata": {},
   "outputs": [],
   "source": [
    "pd.set_option('display.max_rows', 1000)\n",
    "\n",
    "from transformers import AutoTokenizer\n",
    "from datasets import load_dataset\n",
    "import tiktoken\n",
    "import pandas as pd\n",
    "import matplotlib.pyplot as plt\n",
    "import numpy as np"
   ]
  },
  {
   "cell_type": "code",
   "execution_count": 2,
   "id": "9927bf7c-b5cd-441b-afb2-f8e8e9b8d9f2",
   "metadata": {},
   "outputs": [
    {
     "name": "stderr",
     "output_type": "stream",
     "text": [
      "/Users/leandro/git/sandbox/env/lib/python3.9/site-packages/transformers/models/auto/tokenization_auto.py:648: FutureWarning: The `use_auth_token` argument is deprecated and will be removed in v5 of Transformers.\n",
      "  warnings.warn(\n",
      "Loading the tokenizer from the `special_tokens_map.json` and the `added_tokens.json` will be removed in `transformers 5`,  it is kept for forward compatibility, but it is recommended to update your `tokenizer_config.json` by uploading it again. You will see the new `added_tokens_decoder` attribute that will store the relevant information.\n",
      "Special tokens have been added in the vocabulary, make sure the associated word embeddings are fine-tuned or trained.\n",
      "You are using the default legacy behaviour of the <class 'transformers.models.llama.tokenization_llama.LlamaTokenizer'>. If you see this, DO NOT PANIC! This is expected, and simply means that the `legacy` (previous) behavior will be used so nothing changes for you. If you want to use the new behaviour, set `legacy=False`. This should only be set if you understand what it means, and thouroughly read the reason why this was added as explained in https://github.com/huggingface/transformers/pull/24565\n",
      "Using eos_token, but it is not set yet.\n",
      "Using eos_token, but it is not set yet.\n",
      "Special tokens have been added in the vocabulary, make sure the associated word embeddings are fine-tuned or trained.\n",
      "Special tokens have been added in the vocabulary, make sure the associated word embeddings are fine-tuned or trained.\n",
      "Special tokens have been added in the vocabulary, make sure the associated word embeddings are fine-tuned or trained.\n",
      "Special tokens have been added in the vocabulary, make sure the associated word embeddings are fine-tuned or trained.\n",
      "Special tokens have been added in the vocabulary, make sure the associated word embeddings are fine-tuned or trained.\n",
      "Special tokens have been added in the vocabulary, make sure the associated word embeddings are fine-tuned or trained.\n"
     ]
    }
   ],
   "source": [
    "tokenizers = {}\n",
    "\n",
    "tokenizer_names = [\n",
    "    \"bigcode/santacoder\",\n",
    "    \"bigcode/starcoder\",\n",
    "    #\"Salesforce/codegen25-7b-multi\",\n",
    "    \"Salesforce/codegen-16B-mono\",\n",
    "    \"adept/persimmon-8b-base\",\n",
    "    \"codellama/CodeLlama-7b-hf\",\n",
    "    \"lvwerra/starcoder-6k\",\n",
    "    \"lvwerra/starcoder-12k\",\n",
    "    \"lvwerra/starcoder-24k\",\n",
    "    \"lvwerra/starcoder-98k\",\n",
    "    \"lvwerra/starcoder-196k\",\n",
    "    \"lvwerra/starcoder-393k\"\n",
    "]\n",
    "\n",
    "for name in tokenizer_names:\n",
    "    if \"starcoder\" not in name:\n",
    "        tokenizers[name.split(\"/\")[1].split(\"-\")[0]] = AutoTokenizer.from_pretrained(name, use_auth_token=True, trust_remote_code=True, use_fast=True)\n",
    "    else:\n",
    "        tokenizers[name.split(\"/\")[1]] = AutoTokenizer.from_pretrained(name, use_auth_token=True, trust_remote_code=True, use_fast=True)"
   ]
  },
  {
   "cell_type": "code",
   "execution_count": 3,
   "id": "91350aa7-2062-4974-8c79-cf719ef7f618",
   "metadata": {},
   "outputs": [
    {
     "name": "stderr",
     "output_type": "stream",
     "text": [
      "Found cached dataset parquet (/Users/leandro/.cache/huggingface/datasets/bigcode___parquet/bigcode--the-stack-march-sample-special-tokens-stripped-3760e25b4a77f7e2/0.0.0/14a00e99c0d15a23649d0db8944380ac81082d4b021f398733dd84f3a6c569a7)\n"
     ]
    }
   ],
   "source": [
    "ds = load_dataset(\"bigcode/the-stack-march-sample-special-tokens-stripped\", split=\"train\")"
   ]
  },
  {
   "cell_type": "code",
   "execution_count": 4,
   "id": "5fa4f7ff-617b-4fc7-ad67-15f9a9e4fa57",
   "metadata": {},
   "outputs": [
    {
     "name": "stderr",
     "output_type": "stream",
     "text": [
      "Loading cached shuffled indices for dataset at /Users/leandro/.cache/huggingface/datasets/bigcode___parquet/bigcode--the-stack-march-sample-special-tokens-stripped-3760e25b4a77f7e2/0.0.0/14a00e99c0d15a23649d0db8944380ac81082d4b021f398733dd84f3a6c569a7/cache-f5b618eb4d704358.arrow\n"
     ]
    }
   ],
   "source": [
    "ds = ds.shuffle(seed=42)"
   ]
  },
  {
   "cell_type": "code",
   "execution_count": 5,
   "id": "38d182b0-ad67-4036-b6d8-503fb9cc7627",
   "metadata": {},
   "outputs": [],
   "source": [
    "ds_sample = ds.select(range(100_000))"
   ]
  },
  {
   "cell_type": "code",
   "execution_count": 6,
   "id": "45f8b36e-2d3a-491c-8663-a3e8241771fc",
   "metadata": {},
   "outputs": [
    {
     "data": {
      "text/plain": [
       "Dataset({\n",
       "    features: ['content'],\n",
       "    num_rows: 100000\n",
       "})"
      ]
     },
     "execution_count": 6,
     "metadata": {},
     "output_type": "execute_result"
    }
   ],
   "source": [
    "ds_sample"
   ]
  },
  {
   "cell_type": "code",
   "execution_count": 7,
   "id": "ff750b0d-5e4b-41aa-8f7d-0c441e93ab47",
   "metadata": {},
   "outputs": [],
   "source": [
    "total_chars = sum([len(sample[\"content\"]) for sample in ds_sample])"
   ]
  },
  {
   "cell_type": "code",
   "execution_count": 8,
   "id": "bc620c6e-57ce-4009-8b1d-ec29974b5247",
   "metadata": {},
   "outputs": [],
   "source": [
    "def num_tokens(examples, tokenizer_name=None):\n",
    "    tokens = tokenizers[tokenizer_name](examples[\"content\"]).input_ids\n",
    "    lenghts = [len(t) for t in tokens]\n",
    "    return {tokenizer_name: lenghts}"
   ]
  },
  {
   "cell_type": "code",
   "execution_count": 9,
   "id": "41906549-a5f7-47e2-bb14-a142daaf0164",
   "metadata": {},
   "outputs": [
    {
     "name": "stdout",
     "output_type": "stream",
     "text": [
      "santacoder\n"
     ]
    },
    {
     "name": "stderr",
     "output_type": "stream",
     "text": [
      "Loading cached processed dataset at /Users/leandro/.cache/huggingface/datasets/bigcode___parquet/bigcode--the-stack-march-sample-special-tokens-stripped-3760e25b4a77f7e2/0.0.0/14a00e99c0d15a23649d0db8944380ac81082d4b021f398733dd84f3a6c569a7/cache-a5b1be18d07e484f_*_of_00008.arrow\n"
     ]
    },
    {
     "name": "stdout",
     "output_type": "stream",
     "text": [
      "starcoder\n"
     ]
    },
    {
     "name": "stderr",
     "output_type": "stream",
     "text": [
      "Loading cached processed dataset at /Users/leandro/.cache/huggingface/datasets/bigcode___parquet/bigcode--the-stack-march-sample-special-tokens-stripped-3760e25b4a77f7e2/0.0.0/14a00e99c0d15a23649d0db8944380ac81082d4b021f398733dd84f3a6c569a7/cache-b171febca9097d3b_*_of_00008.arrow\n"
     ]
    },
    {
     "name": "stdout",
     "output_type": "stream",
     "text": [
      "codegen\n"
     ]
    },
    {
     "name": "stderr",
     "output_type": "stream",
     "text": [
      "Loading cached processed dataset at /Users/leandro/.cache/huggingface/datasets/bigcode___parquet/bigcode--the-stack-march-sample-special-tokens-stripped-3760e25b4a77f7e2/0.0.0/14a00e99c0d15a23649d0db8944380ac81082d4b021f398733dd84f3a6c569a7/cache-0ca7309352fed67b_*_of_00008.arrow\n"
     ]
    },
    {
     "name": "stdout",
     "output_type": "stream",
     "text": [
      "persimmon\n"
     ]
    },
    {
     "name": "stderr",
     "output_type": "stream",
     "text": [
      "Loading cached processed dataset at /Users/leandro/.cache/huggingface/datasets/bigcode___parquet/bigcode--the-stack-march-sample-special-tokens-stripped-3760e25b4a77f7e2/0.0.0/14a00e99c0d15a23649d0db8944380ac81082d4b021f398733dd84f3a6c569a7/cache-15a69b5d2ad219e9_*_of_00008.arrow\n"
     ]
    },
    {
     "name": "stdout",
     "output_type": "stream",
     "text": [
      "CodeLlama\n"
     ]
    },
    {
     "name": "stderr",
     "output_type": "stream",
     "text": [
      "Loading cached processed dataset at /Users/leandro/.cache/huggingface/datasets/bigcode___parquet/bigcode--the-stack-march-sample-special-tokens-stripped-3760e25b4a77f7e2/0.0.0/14a00e99c0d15a23649d0db8944380ac81082d4b021f398733dd84f3a6c569a7/cache-2062330cfa1b88d2_*_of_00008.arrow\n"
     ]
    },
    {
     "name": "stdout",
     "output_type": "stream",
     "text": [
      "starcoder-6k\n"
     ]
    },
    {
     "name": "stderr",
     "output_type": "stream",
     "text": [
      "Loading cached processed dataset at /Users/leandro/.cache/huggingface/datasets/bigcode___parquet/bigcode--the-stack-march-sample-special-tokens-stripped-3760e25b4a77f7e2/0.0.0/14a00e99c0d15a23649d0db8944380ac81082d4b021f398733dd84f3a6c569a7/cache-9acc55235fb93899_*_of_00008.arrow\n"
     ]
    },
    {
     "name": "stdout",
     "output_type": "stream",
     "text": [
      "starcoder-12k\n"
     ]
    },
    {
     "name": "stderr",
     "output_type": "stream",
     "text": [
      "Loading cached processed dataset at /Users/leandro/.cache/huggingface/datasets/bigcode___parquet/bigcode--the-stack-march-sample-special-tokens-stripped-3760e25b4a77f7e2/0.0.0/14a00e99c0d15a23649d0db8944380ac81082d4b021f398733dd84f3a6c569a7/cache-61e2120e7fc1316b_*_of_00008.arrow\n"
     ]
    },
    {
     "name": "stdout",
     "output_type": "stream",
     "text": [
      "starcoder-24k\n"
     ]
    },
    {
     "name": "stderr",
     "output_type": "stream",
     "text": [
      "Loading cached processed dataset at /Users/leandro/.cache/huggingface/datasets/bigcode___parquet/bigcode--the-stack-march-sample-special-tokens-stripped-3760e25b4a77f7e2/0.0.0/14a00e99c0d15a23649d0db8944380ac81082d4b021f398733dd84f3a6c569a7/cache-8ba467e258d8db89_*_of_00008.arrow\n"
     ]
    },
    {
     "name": "stdout",
     "output_type": "stream",
     "text": [
      "starcoder-98k\n"
     ]
    },
    {
     "name": "stderr",
     "output_type": "stream",
     "text": [
      "Loading cached processed dataset at /Users/leandro/.cache/huggingface/datasets/bigcode___parquet/bigcode--the-stack-march-sample-special-tokens-stripped-3760e25b4a77f7e2/0.0.0/14a00e99c0d15a23649d0db8944380ac81082d4b021f398733dd84f3a6c569a7/cache-a89609ba956a7a83_*_of_00008.arrow\n"
     ]
    },
    {
     "name": "stdout",
     "output_type": "stream",
     "text": [
      "starcoder-196k\n"
     ]
    },
    {
     "name": "stderr",
     "output_type": "stream",
     "text": [
      "Loading cached processed dataset at /Users/leandro/.cache/huggingface/datasets/bigcode___parquet/bigcode--the-stack-march-sample-special-tokens-stripped-3760e25b4a77f7e2/0.0.0/14a00e99c0d15a23649d0db8944380ac81082d4b021f398733dd84f3a6c569a7/cache-71183f510556488f_*_of_00008.arrow\n"
     ]
    },
    {
     "name": "stdout",
     "output_type": "stream",
     "text": [
      "starcoder-393k\n"
     ]
    },
    {
     "name": "stderr",
     "output_type": "stream",
     "text": [
      "Loading cached processed dataset at /Users/leandro/.cache/huggingface/datasets/bigcode___parquet/bigcode--the-stack-march-sample-special-tokens-stripped-3760e25b4a77f7e2/0.0.0/14a00e99c0d15a23649d0db8944380ac81082d4b021f398733dd84f3a6c569a7/cache-b9aa550a8436d2c3_*_of_00008.arrow\n"
     ]
    }
   ],
   "source": [
    "for name in tokenizers:\n",
    "    print(name)\n",
    "    ds_sample = ds_sample.map(num_tokens, num_proc=8, batched=True, batch_size=1000, fn_kwargs={\"tokenizer_name\": name})"
   ]
  },
  {
   "cell_type": "code",
   "execution_count": 10,
   "id": "353c598e-aaad-45d5-803a-4372b6842bbe",
   "metadata": {},
   "outputs": [
    {
     "name": "stdout",
     "output_type": "stream",
     "text": [
      "santacoder:\t3.21\n",
      "starcoder:\t3.27\n",
      "codegen:\t3.10\n",
      "persimmon:\t2.96\n",
      "CodeLlama:\t2.81\n",
      "starcoder-6k:\t2.75\n",
      "starcoder-12k:\t2.98\n",
      "starcoder-24k:\t3.15\n",
      "starcoder-98k:\t3.36\n",
      "starcoder-196k:\t3.43\n",
      "starcoder-393k:\t3.48\n"
     ]
    }
   ],
   "source": [
    "for name in tokenizers:\n",
    "    print(f\"{name}:\\t{(total_chars/sum(ds_sample[name])):.2f}\")"
   ]
  },
  {
   "cell_type": "code",
   "execution_count": 11,
   "id": "ae349412-cb70-4f37-b5ac-ef368434b9ec",
   "metadata": {},
   "outputs": [],
   "source": [
    "tokenizers[\"gpt4\"] = tiktoken.get_encoding(\"cl100k_base\")\n",
    "tokenizers[\"codex/text-davinci\"] = tiktoken.get_encoding(\"p50k_base\")\n",
    "tokenizers[\"gpt-2/3\"] = tiktoken.get_encoding(\"r50k_base\")\n",
    "\n",
    "openai_names = [\"gpt4\", \"codex/text-davinci\", \"gpt-2/3\"]"
   ]
  },
  {
   "cell_type": "code",
   "execution_count": 12,
   "id": "37207dec-46f2-440c-b5fa-d8b086698d03",
   "metadata": {},
   "outputs": [],
   "source": [
    "def num_tokens_tt(examples, tokenizer_name=None):\n",
    "    tokens = tokenizers[tokenizer_name].encode_batch(examples[\"content\"])\n",
    "    lenghts = [len(t) for t in tokens]\n",
    "    return {f\"{tokenizer_name}\": lenghts}"
   ]
  },
  {
   "cell_type": "code",
   "execution_count": 13,
   "id": "7bbfb5ff-c777-4a81-b747-f241b889c90f",
   "metadata": {},
   "outputs": [
    {
     "name": "stderr",
     "output_type": "stream",
     "text": [
      "Loading cached processed dataset at /Users/leandro/.cache/huggingface/datasets/bigcode___parquet/bigcode--the-stack-march-sample-special-tokens-stripped-3760e25b4a77f7e2/0.0.0/14a00e99c0d15a23649d0db8944380ac81082d4b021f398733dd84f3a6c569a7/cache-4b1d0fdecb4de7d9.arrow\n",
      "Loading cached processed dataset at /Users/leandro/.cache/huggingface/datasets/bigcode___parquet/bigcode--the-stack-march-sample-special-tokens-stripped-3760e25b4a77f7e2/0.0.0/14a00e99c0d15a23649d0db8944380ac81082d4b021f398733dd84f3a6c569a7/cache-b105a242d2d0f36c.arrow\n",
      "Loading cached processed dataset at /Users/leandro/.cache/huggingface/datasets/bigcode___parquet/bigcode--the-stack-march-sample-special-tokens-stripped-3760e25b4a77f7e2/0.0.0/14a00e99c0d15a23649d0db8944380ac81082d4b021f398733dd84f3a6c569a7/cache-3c04cb20c5e61723.arrow\n"
     ]
    }
   ],
   "source": [
    "for name in openai_names:\n",
    "    ds_sample = ds_sample.map(num_tokens_tt, num_proc=1, batched=True, batch_size=1000, fn_kwargs={\"tokenizer_name\": name})"
   ]
  },
  {
   "cell_type": "code",
   "execution_count": 14,
   "id": "50c5572b-5474-4cf4-a799-ae9e195f834e",
   "metadata": {},
   "outputs": [],
   "source": [
    "data = []\n",
    "for name in tokenizers:\n",
    "    ratio = total_chars/sum(ds_sample[name])\n",
    "    if name not in openai_names:\n",
    "        vocab_size = tokenizers[name].vocab_size\n",
    "    else:\n",
    "        vocab_size = tokenizers[name].n_vocab\n",
    "    data.append({\n",
    "        \"tokenizer\": name,\n",
    "        \"character/token\": ratio,\n",
    "        \"vocab_size\": vocab_size,\n",
    "    }\n",
    "    )"
   ]
  },
  {
   "cell_type": "code",
   "execution_count": 15,
   "id": "fdb729ea-33d8-4203-ba79-0a833a82d8cf",
   "metadata": {},
   "outputs": [],
   "source": [
    "element = data.pop(1)\n",
    "data.insert(7, element)"
   ]
  },
  {
   "cell_type": "code",
   "execution_count": 16,
   "id": "fb71e511-3002-4daa-ba08-70ddf8f50751",
   "metadata": {},
   "outputs": [],
   "source": [
    "df_results = pd.DataFrame.from_records(data)"
   ]
  },
  {
   "cell_type": "code",
   "execution_count": 17,
   "id": "18404e8e-5918-4ac7-bef0-d23d87412a11",
   "metadata": {},
   "outputs": [
    {
     "data": {
      "text/html": [
       "<div>\n",
       "<style scoped>\n",
       "    .dataframe tbody tr th:only-of-type {\n",
       "        vertical-align: middle;\n",
       "    }\n",
       "\n",
       "    .dataframe tbody tr th {\n",
       "        vertical-align: top;\n",
       "    }\n",
       "\n",
       "    .dataframe thead th {\n",
       "        text-align: right;\n",
       "    }\n",
       "</style>\n",
       "<table border=\"1\" class=\"dataframe\">\n",
       "  <thead>\n",
       "    <tr style=\"text-align: right;\">\n",
       "      <th></th>\n",
       "      <th>tokenizer</th>\n",
       "      <th>character/token</th>\n",
       "      <th>vocab_size</th>\n",
       "    </tr>\n",
       "  </thead>\n",
       "  <tbody>\n",
       "    <tr>\n",
       "      <th>0</th>\n",
       "      <td>santacoder</td>\n",
       "      <td>3.212626</td>\n",
       "      <td>49152</td>\n",
       "    </tr>\n",
       "    <tr>\n",
       "      <th>1</th>\n",
       "      <td>codegen</td>\n",
       "      <td>3.096418</td>\n",
       "      <td>50257</td>\n",
       "    </tr>\n",
       "    <tr>\n",
       "      <th>2</th>\n",
       "      <td>persimmon</td>\n",
       "      <td>2.958010</td>\n",
       "      <td>262144</td>\n",
       "    </tr>\n",
       "    <tr>\n",
       "      <th>3</th>\n",
       "      <td>CodeLlama</td>\n",
       "      <td>2.810960</td>\n",
       "      <td>32016</td>\n",
       "    </tr>\n",
       "    <tr>\n",
       "      <th>4</th>\n",
       "      <td>starcoder-6k</td>\n",
       "      <td>2.752220</td>\n",
       "      <td>6144</td>\n",
       "    </tr>\n",
       "    <tr>\n",
       "      <th>5</th>\n",
       "      <td>starcoder-12k</td>\n",
       "      <td>2.976113</td>\n",
       "      <td>12288</td>\n",
       "    </tr>\n",
       "    <tr>\n",
       "      <th>6</th>\n",
       "      <td>starcoder-24k</td>\n",
       "      <td>3.146136</td>\n",
       "      <td>24576</td>\n",
       "    </tr>\n",
       "    <tr>\n",
       "      <th>7</th>\n",
       "      <td>starcoder</td>\n",
       "      <td>3.270098</td>\n",
       "      <td>49152</td>\n",
       "    </tr>\n",
       "    <tr>\n",
       "      <th>8</th>\n",
       "      <td>starcoder-98k</td>\n",
       "      <td>3.361067</td>\n",
       "      <td>98304</td>\n",
       "    </tr>\n",
       "    <tr>\n",
       "      <th>9</th>\n",
       "      <td>starcoder-196k</td>\n",
       "      <td>3.430138</td>\n",
       "      <td>196608</td>\n",
       "    </tr>\n",
       "    <tr>\n",
       "      <th>10</th>\n",
       "      <td>starcoder-393k</td>\n",
       "      <td>3.484438</td>\n",
       "      <td>393216</td>\n",
       "    </tr>\n",
       "    <tr>\n",
       "      <th>11</th>\n",
       "      <td>gpt4</td>\n",
       "      <td>3.766342</td>\n",
       "      <td>100277</td>\n",
       "    </tr>\n",
       "    <tr>\n",
       "      <th>12</th>\n",
       "      <td>codex/text-davinci</td>\n",
       "      <td>2.900404</td>\n",
       "      <td>50281</td>\n",
       "    </tr>\n",
       "    <tr>\n",
       "      <th>13</th>\n",
       "      <td>gpt-2/3</td>\n",
       "      <td>2.263692</td>\n",
       "      <td>50257</td>\n",
       "    </tr>\n",
       "  </tbody>\n",
       "</table>\n",
       "</div>"
      ],
      "text/plain": [
       "             tokenizer  character/token  vocab_size\n",
       "0           santacoder         3.212626       49152\n",
       "1              codegen         3.096418       50257\n",
       "2            persimmon         2.958010      262144\n",
       "3            CodeLlama         2.810960       32016\n",
       "4         starcoder-6k         2.752220        6144\n",
       "5        starcoder-12k         2.976113       12288\n",
       "6        starcoder-24k         3.146136       24576\n",
       "7            starcoder         3.270098       49152\n",
       "8        starcoder-98k         3.361067       98304\n",
       "9       starcoder-196k         3.430138      196608\n",
       "10      starcoder-393k         3.484438      393216\n",
       "11                gpt4         3.766342      100277\n",
       "12  codex/text-davinci         2.900404       50281\n",
       "13             gpt-2/3         2.263692       50257"
      ]
     },
     "execution_count": 17,
     "metadata": {},
     "output_type": "execute_result"
    }
   ],
   "source": [
    "df_results"
   ]
  },
  {
   "cell_type": "code",
   "execution_count": 18,
   "id": "1c47535a-5e64-4d8d-8797-2525a9ae214d",
   "metadata": {},
   "outputs": [
    {
     "data": {
      "image/png": "[encoded data removed]",
      "text/plain": [
       "<Figure size 2000x1000 with 1 Axes>"
      ]
     },
     "metadata": {
      "needs_background": "light"
     },
     "output_type": "display_data"
    }
   ],
   "source": [
    "#create scatter plot of assists vs. points\n",
    "fig, ax = plt.subplots(dpi=200, figsize=(10,5))\n",
    "ax = df_results.plot(kind='scatter', x='vocab_size', y='character/token', ax=ax)\n",
    "\n",
    "ax = df_results.loc[df_results[\"tokenizer\"].str.contains(\"starcoder\")].plot(kind='line', x='vocab_size', y='character/token', ax=ax, color=\"black\", alpha=0.5)\n",
    "\n",
    "\n",
    "#label each point in scatter plot\n",
    "for idx, row in df_results.iterrows():\n",
    "    ax.annotate(row['tokenizer'], (row['vocab_size']+4000, row['character/token']))\n",
    "\n",
    "plt.title(\"Tokenizer Efficiency on The Stack\")\n",
    "plt.tight_layout()\n",
    "plt.grid()"
   ]
  },
  {
   "cell_type": "code",
   "execution_count": 25,
   "id": "a1294380-17a8-4336-adc4-e54857b80c40",
   "metadata": {},
   "outputs": [
    {
     "name": "stderr",
     "output_type": "stream",
     "text": [
      "Loading cached processed dataset at /Users/leandro/.cache/huggingface/datasets/bigcode___parquet/bigcode--the-stack-march-sample-special-tokens-stripped-3760e25b4a77f7e2/0.0.0/14a00e99c0d15a23649d0db8944380ac81082d4b021f398733dd84f3a6c569a7/cache-aef6db386770d41e.arrow\n"
     ]
    }
   ],
   "source": [
    "ds_r = ds_sample.map(lambda x: {\"r\": x[\"starcoder-98k\"]/x[\"gpt4\"]})"
   ]
  },
  {
   "cell_type": "code",
   "execution_count": 26,
   "id": "41f9167c-3708-44d5-b206-561bf9077c3c",
   "metadata": {},
   "outputs": [
    {
     "data": {
      "image/png": "[encoded data removed]",
      "text/plain": [
       "<Figure size 432x288 with 1 Axes>"
      ]
     },
     "metadata": {
      "needs_background": "light"
     },
     "output_type": "display_data"
    }
   ],
   "source": [
    "_=plt.hist(ds_r[\"r\"], bins=np.linspace(0.7, 1.6, 100))"
   ]
  },
  {
   "cell_type": "code",
   "execution_count": 22,
   "id": "e4cae728-6f03-46bb-b192-9b8394840ff0",
   "metadata": {},
   "outputs": [
    {
     "name": "stderr",
     "output_type": "stream",
     "text": [
      "Loading cached processed dataset at /Users/leandro/.cache/huggingface/datasets/bigcode___parquet/bigcode--the-stack-march-sample-special-tokens-stripped-3760e25b4a77f7e2/0.0.0/14a00e99c0d15a23649d0db8944380ac81082d4b021f398733dd84f3a6c569a7/cache-a38e58a39ed4af34.arrow\n"
     ]
    }
   ],
   "source": [
    "ds_r = ds_r.filter(lambda x: x[\"r\"] > 1.2)"
   ]
  },
  {
   "cell_type": "code",
   "execution_count": 23,
   "id": "ce03ee64-ac7a-41eb-a858-cc2466d39426",
   "metadata": {},
   "outputs": [
    {
     "data": {
      "text/plain": [
       "{'content': '// const jsonRpc = require(\\'../../lib\\').v2();\\n\\n// describe(\\'JSONRPC_V2 (lib/jsonrpc-v2.js)\\', () => {\\n//   it(\\'should be true\\', () => {\\n//     console.log(jsonRpc.request(true, [true, false], 1));\\n//   });\\n// });\\n\"use strict\";',\n",
       " 'santacoder': 81,\n",
       " 'starcoder': 81,\n",
       " 'codegen': 88,\n",
       " 'persimmon': 82,\n",
       " 'CodeLlama': 89,\n",
       " 'starcoder-6k': 89,\n",
       " 'starcoder-12k': 83,\n",
       " 'starcoder-24k': 82,\n",
       " 'starcoder-98k': 81,\n",
       " 'starcoder-196k': 81,\n",
       " 'starcoder-393k': 80,\n",
       " 'gpt4': 66,\n",
       " 'codex/text-davinci': 88,\n",
       " 'gpt-2/3': 93,\n",
       " 'r': 1.2272727272727273}"
      ]
     },
     "execution_count": 23,
     "metadata": {},
     "output_type": "execute_result"
    }
   ],
   "source": [
    "ds_r[0]"
   ]
  },
  {
   "cell_type": "code",
   "execution_count": 43,
   "id": "ea4b9f37-80b8-43f4-838a-c3fa6f42fbc5",
   "metadata": {},
   "outputs": [],
   "source": [
    "starcoder_tokens = [tokenizers[\"starcoder-98k\"].convert_tokens_to_string([i]) for i in tokenizers[\"starcoder-98k\"].tokenize(ds_r[0][\"content\"])]\n",
    "gpt4_tokens = [tokenizers[\"gpt4\"].decode([x]) for x in tokenizers[\"gpt4\"].encode(ds_r[0][\"content\"])]"
   ]
  },
  {
   "cell_type": "code",
   "execution_count": 55,
   "id": "3d49200a-48d7-4fd2-93d6-373190707c3a",
   "metadata": {},
   "outputs": [],
   "source": [
    "gpt4_tokens_pad = gpt4_tokens+[\"END\"]*(len(starcoder_tokens)-len(gpt4_tokens))"
   ]
  },
  {
   "cell_type": "code",
   "execution_count": 61,
   "id": "46cc470f-ec1f-471a-a770-33cb29bea3cf",
   "metadata": {},
   "outputs": [
    {
     "data": {
      "text/html": [
       "<div>\n",
       "<style scoped>\n",
       "    .dataframe tbody tr th:only-of-type {\n",
       "        vertical-align: middle;\n",
       "    }\n",
       "\n",
       "    .dataframe tbody tr th {\n",
       "        vertical-align: top;\n",
       "    }\n",
       "\n",
       "    .dataframe thead th {\n",
       "        text-align: right;\n",
       "    }\n",
       "</style>\n",
       "<table border=\"1\" class=\"dataframe\">\n",
       "  <thead>\n",
       "    <tr style=\"text-align: right;\">\n",
       "      <th></th>\n",
       "      <th>starcoder</th>\n",
       "      <th>gpt4</th>\n",
       "    </tr>\n",
       "  </thead>\n",
       "  <tbody>\n",
       "    <tr>\n",
       "      <th>0</th>\n",
       "      <td>'//'</td>\n",
       "      <td>'//'</td>\n",
       "    </tr>\n",
       "    <tr>\n",
       "      <th>1</th>\n",
       "      <td>' const'</td>\n",
       "      <td>' const'</td>\n",
       "    </tr>\n",
       "    <tr>\n",
       "      <th>2</th>\n",
       "      <td>' json'</td>\n",
       "      <td>' json'</td>\n",
       "    </tr>\n",
       "    <tr>\n",
       "      <th>3</th>\n",
       "      <td>'Rpc'</td>\n",
       "      <td>'Rpc'</td>\n",
       "    </tr>\n",
       "    <tr>\n",
       "      <th>4</th>\n",
       "      <td>' ='</td>\n",
       "      <td>' ='</td>\n",
       "    </tr>\n",
       "    <tr>\n",
       "      <th>5</th>\n",
       "      <td>' require'</td>\n",
       "      <td>' require'</td>\n",
       "    </tr>\n",
       "    <tr>\n",
       "      <th>6</th>\n",
       "      <td>\"('../../\"</td>\n",
       "      <td>\"('../../\"</td>\n",
       "    </tr>\n",
       "    <tr>\n",
       "      <th>7</th>\n",
       "      <td>'lib'</td>\n",
       "      <td>'lib'</td>\n",
       "    </tr>\n",
       "    <tr>\n",
       "      <th>8</th>\n",
       "      <td>\"').\"</td>\n",
       "      <td>\"').\"</td>\n",
       "    </tr>\n",
       "    <tr>\n",
       "      <th>9</th>\n",
       "      <td>'v'</td>\n",
       "      <td>'v'</td>\n",
       "    </tr>\n",
       "    <tr>\n",
       "      <th>10</th>\n",
       "      <td>'2'</td>\n",
       "      <td>'2'</td>\n",
       "    </tr>\n",
       "    <tr>\n",
       "      <th>11</th>\n",
       "      <td>'();'</td>\n",
       "      <td>'();\\n\\n'</td>\n",
       "    </tr>\n",
       "    <tr>\n",
       "      <th>12</th>\n",
       "      <td>'\\n'</td>\n",
       "      <td>'//'</td>\n",
       "    </tr>\n",
       "    <tr>\n",
       "      <th>13</th>\n",
       "      <td>'\\n'</td>\n",
       "      <td>' describe'</td>\n",
       "    </tr>\n",
       "    <tr>\n",
       "      <th>14</th>\n",
       "      <td>'//'</td>\n",
       "      <td>\"('\"</td>\n",
       "    </tr>\n",
       "    <tr>\n",
       "      <th>15</th>\n",
       "      <td>' describe'</td>\n",
       "      <td>'JSON'</td>\n",
       "    </tr>\n",
       "    <tr>\n",
       "      <th>16</th>\n",
       "      <td>\"('\"</td>\n",
       "      <td>'RPC'</td>\n",
       "    </tr>\n",
       "    <tr>\n",
       "      <th>17</th>\n",
       "      <td>'JSON'</td>\n",
       "      <td>'_V'</td>\n",
       "    </tr>\n",
       "    <tr>\n",
       "      <th>18</th>\n",
       "      <td>'RPC'</td>\n",
       "      <td>'2'</td>\n",
       "    </tr>\n",
       "    <tr>\n",
       "      <th>19</th>\n",
       "      <td>'_'</td>\n",
       "      <td>' ('</td>\n",
       "    </tr>\n",
       "    <tr>\n",
       "      <th>20</th>\n",
       "      <td>'V'</td>\n",
       "      <td>'lib'</td>\n",
       "    </tr>\n",
       "    <tr>\n",
       "      <th>21</th>\n",
       "      <td>'2'</td>\n",
       "      <td>'/json'</td>\n",
       "    </tr>\n",
       "    <tr>\n",
       "      <th>22</th>\n",
       "      <td>' ('</td>\n",
       "      <td>'rpc'</td>\n",
       "    </tr>\n",
       "    <tr>\n",
       "      <th>23</th>\n",
       "      <td>'lib'</td>\n",
       "      <td>'-v'</td>\n",
       "    </tr>\n",
       "    <tr>\n",
       "      <th>24</th>\n",
       "      <td>'/'</td>\n",
       "      <td>'2'</td>\n",
       "    </tr>\n",
       "    <tr>\n",
       "      <th>25</th>\n",
       "      <td>'jsonrpc'</td>\n",
       "      <td>'.js'</td>\n",
       "    </tr>\n",
       "    <tr>\n",
       "      <th>26</th>\n",
       "      <td>'-'</td>\n",
       "      <td>\")',\"</td>\n",
       "    </tr>\n",
       "    <tr>\n",
       "      <th>27</th>\n",
       "      <td>'v'</td>\n",
       "      <td>' ()'</td>\n",
       "    </tr>\n",
       "    <tr>\n",
       "      <th>28</th>\n",
       "      <td>'2'</td>\n",
       "      <td>' =&gt;'</td>\n",
       "    </tr>\n",
       "    <tr>\n",
       "      <th>29</th>\n",
       "      <td>'.'</td>\n",
       "      <td>' {\\n'</td>\n",
       "    </tr>\n",
       "    <tr>\n",
       "      <th>30</th>\n",
       "      <td>'js'</td>\n",
       "      <td>'//'</td>\n",
       "    </tr>\n",
       "    <tr>\n",
       "      <th>31</th>\n",
       "      <td>\")',\"</td>\n",
       "      <td>'  '</td>\n",
       "    </tr>\n",
       "    <tr>\n",
       "      <th>32</th>\n",
       "      <td>' ()'</td>\n",
       "      <td>' it'</td>\n",
       "    </tr>\n",
       "    <tr>\n",
       "      <th>33</th>\n",
       "      <td>' =&gt;'</td>\n",
       "      <td>\"('\"</td>\n",
       "    </tr>\n",
       "    <tr>\n",
       "      <th>34</th>\n",
       "      <td>' {'</td>\n",
       "      <td>'should'</td>\n",
       "    </tr>\n",
       "    <tr>\n",
       "      <th>35</th>\n",
       "      <td>'\\n'</td>\n",
       "      <td>' be'</td>\n",
       "    </tr>\n",
       "    <tr>\n",
       "      <th>36</th>\n",
       "      <td>'//'</td>\n",
       "      <td>' true'</td>\n",
       "    </tr>\n",
       "    <tr>\n",
       "      <th>37</th>\n",
       "      <td>'  '</td>\n",
       "      <td>\"',\"</td>\n",
       "    </tr>\n",
       "    <tr>\n",
       "      <th>38</th>\n",
       "      <td>' it'</td>\n",
       "      <td>' ()'</td>\n",
       "    </tr>\n",
       "    <tr>\n",
       "      <th>39</th>\n",
       "      <td>\"('\"</td>\n",
       "      <td>' =&gt;'</td>\n",
       "    </tr>\n",
       "    <tr>\n",
       "      <th>40</th>\n",
       "      <td>'should'</td>\n",
       "      <td>' {\\n'</td>\n",
       "    </tr>\n",
       "    <tr>\n",
       "      <th>41</th>\n",
       "      <td>' be'</td>\n",
       "      <td>'//'</td>\n",
       "    </tr>\n",
       "    <tr>\n",
       "      <th>42</th>\n",
       "      <td>' true'</td>\n",
       "      <td>'    '</td>\n",
       "    </tr>\n",
       "    <tr>\n",
       "      <th>43</th>\n",
       "      <td>\"',\"</td>\n",
       "      <td>' console'</td>\n",
       "    </tr>\n",
       "    <tr>\n",
       "      <th>44</th>\n",
       "      <td>' ()'</td>\n",
       "      <td>'.log'</td>\n",
       "    </tr>\n",
       "    <tr>\n",
       "      <th>45</th>\n",
       "      <td>' =&gt;'</td>\n",
       "      <td>'(json'</td>\n",
       "    </tr>\n",
       "    <tr>\n",
       "      <th>46</th>\n",
       "      <td>' {'</td>\n",
       "      <td>'Rpc'</td>\n",
       "    </tr>\n",
       "    <tr>\n",
       "      <th>47</th>\n",
       "      <td>'\\n'</td>\n",
       "      <td>'.request'</td>\n",
       "    </tr>\n",
       "    <tr>\n",
       "      <th>48</th>\n",
       "      <td>'//'</td>\n",
       "      <td>'(true'</td>\n",
       "    </tr>\n",
       "    <tr>\n",
       "      <th>49</th>\n",
       "      <td>'    '</td>\n",
       "      <td>','</td>\n",
       "    </tr>\n",
       "    <tr>\n",
       "      <th>50</th>\n",
       "      <td>' console'</td>\n",
       "      <td>' ['</td>\n",
       "    </tr>\n",
       "    <tr>\n",
       "      <th>51</th>\n",
       "      <td>'.'</td>\n",
       "      <td>'true'</td>\n",
       "    </tr>\n",
       "    <tr>\n",
       "      <th>52</th>\n",
       "      <td>'log'</td>\n",
       "      <td>','</td>\n",
       "    </tr>\n",
       "    <tr>\n",
       "      <th>53</th>\n",
       "      <td>'('</td>\n",
       "      <td>' false'</td>\n",
       "    </tr>\n",
       "    <tr>\n",
       "      <th>54</th>\n",
       "      <td>'json'</td>\n",
       "      <td>'],'</td>\n",
       "    </tr>\n",
       "    <tr>\n",
       "      <th>55</th>\n",
       "      <td>'Rpc'</td>\n",
       "      <td>' '</td>\n",
       "    </tr>\n",
       "    <tr>\n",
       "      <th>56</th>\n",
       "      <td>'.'</td>\n",
       "      <td>'1'</td>\n",
       "    </tr>\n",
       "    <tr>\n",
       "      <th>57</th>\n",
       "      <td>'request'</td>\n",
       "      <td>'));\\n'</td>\n",
       "    </tr>\n",
       "    <tr>\n",
       "      <th>58</th>\n",
       "      <td>'('</td>\n",
       "      <td>'//'</td>\n",
       "    </tr>\n",
       "    <tr>\n",
       "      <th>59</th>\n",
       "      <td>'true'</td>\n",
       "      <td>'  '</td>\n",
       "    </tr>\n",
       "    <tr>\n",
       "      <th>60</th>\n",
       "      <td>','</td>\n",
       "      <td>' });\\n'</td>\n",
       "    </tr>\n",
       "    <tr>\n",
       "      <th>61</th>\n",
       "      <td>' ['</td>\n",
       "      <td>'//'</td>\n",
       "    </tr>\n",
       "    <tr>\n",
       "      <th>62</th>\n",
       "      <td>'true'</td>\n",
       "      <td>' });\\n'</td>\n",
       "    </tr>\n",
       "    <tr>\n",
       "      <th>63</th>\n",
       "      <td>','</td>\n",
       "      <td>'\"use'</td>\n",
       "    </tr>\n",
       "    <tr>\n",
       "      <th>64</th>\n",
       "      <td>' false'</td>\n",
       "      <td>' strict'</td>\n",
       "    </tr>\n",
       "    <tr>\n",
       "      <th>65</th>\n",
       "      <td>'],'</td>\n",
       "      <td>'\";'</td>\n",
       "    </tr>\n",
       "    <tr>\n",
       "      <th>66</th>\n",
       "      <td>' '</td>\n",
       "      <td>'END'</td>\n",
       "    </tr>\n",
       "    <tr>\n",
       "      <th>67</th>\n",
       "      <td>'1'</td>\n",
       "      <td>'END'</td>\n",
       "    </tr>\n",
       "    <tr>\n",
       "      <th>68</th>\n",
       "      <td>'));'</td>\n",
       "      <td>'END'</td>\n",
       "    </tr>\n",
       "    <tr>\n",
       "      <th>69</th>\n",
       "      <td>'\\n'</td>\n",
       "      <td>'END'</td>\n",
       "    </tr>\n",
       "    <tr>\n",
       "      <th>70</th>\n",
       "      <td>'//'</td>\n",
       "      <td>'END'</td>\n",
       "    </tr>\n",
       "    <tr>\n",
       "      <th>71</th>\n",
       "      <td>'  '</td>\n",
       "      <td>'END'</td>\n",
       "    </tr>\n",
       "    <tr>\n",
       "      <th>72</th>\n",
       "      <td>' });'</td>\n",
       "      <td>'END'</td>\n",
       "    </tr>\n",
       "    <tr>\n",
       "      <th>73</th>\n",
       "      <td>'\\n'</td>\n",
       "      <td>'END'</td>\n",
       "    </tr>\n",
       "    <tr>\n",
       "      <th>74</th>\n",
       "      <td>'//'</td>\n",
       "      <td>'END'</td>\n",
       "    </tr>\n",
       "    <tr>\n",
       "      <th>75</th>\n",
       "      <td>' });'</td>\n",
       "      <td>'END'</td>\n",
       "    </tr>\n",
       "    <tr>\n",
       "      <th>76</th>\n",
       "      <td>'\\n'</td>\n",
       "      <td>'END'</td>\n",
       "    </tr>\n",
       "    <tr>\n",
       "      <th>77</th>\n",
       "      <td>'\"'</td>\n",
       "      <td>'END'</td>\n",
       "    </tr>\n",
       "    <tr>\n",
       "      <th>78</th>\n",
       "      <td>'use'</td>\n",
       "      <td>'END'</td>\n",
       "    </tr>\n",
       "    <tr>\n",
       "      <th>79</th>\n",
       "      <td>' strict'</td>\n",
       "      <td>'END'</td>\n",
       "    </tr>\n",
       "    <tr>\n",
       "      <th>80</th>\n",
       "      <td>'\";'</td>\n",
       "      <td>'END'</td>\n",
       "    </tr>\n",
       "  </tbody>\n",
       "</table>\n",
       "</div>"
      ],
      "text/plain": [
       "      starcoder         gpt4\n",
       "0          '//'         '//'\n",
       "1      ' const'     ' const'\n",
       "2       ' json'      ' json'\n",
       "3         'Rpc'        'Rpc'\n",
       "4          ' ='         ' ='\n",
       "5    ' require'   ' require'\n",
       "6    \"('../../\"   \"('../../\"\n",
       "7         'lib'        'lib'\n",
       "8         \"').\"        \"').\"\n",
       "9           'v'          'v'\n",
       "10          '2'          '2'\n",
       "11        '();'    '();\\n\\n'\n",
       "12         '\\n'         '//'\n",
       "13         '\\n'  ' describe'\n",
       "14         '//'         \"('\"\n",
       "15  ' describe'       'JSON'\n",
       "16         \"('\"        'RPC'\n",
       "17       'JSON'         '_V'\n",
       "18        'RPC'          '2'\n",
       "19          '_'         ' ('\n",
       "20          'V'        'lib'\n",
       "21          '2'      '/json'\n",
       "22         ' ('        'rpc'\n",
       "23        'lib'         '-v'\n",
       "24          '/'          '2'\n",
       "25    'jsonrpc'        '.js'\n",
       "26          '-'        \")',\"\n",
       "27          'v'        ' ()'\n",
       "28          '2'        ' =>'\n",
       "29          '.'       ' {\\n'\n",
       "30         'js'         '//'\n",
       "31        \")',\"         '  '\n",
       "32        ' ()'        ' it'\n",
       "33        ' =>'         \"('\"\n",
       "34         ' {'     'should'\n",
       "35         '\\n'        ' be'\n",
       "36         '//'      ' true'\n",
       "37         '  '         \"',\"\n",
       "38        ' it'        ' ()'\n",
       "39         \"('\"        ' =>'\n",
       "40     'should'       ' {\\n'\n",
       "41        ' be'         '//'\n",
       "42      ' true'       '    '\n",
       "43         \"',\"   ' console'\n",
       "44        ' ()'       '.log'\n",
       "45        ' =>'      '(json'\n",
       "46         ' {'        'Rpc'\n",
       "47         '\\n'   '.request'\n",
       "48         '//'      '(true'\n",
       "49       '    '          ','\n",
       "50   ' console'         ' ['\n",
       "51          '.'       'true'\n",
       "52        'log'          ','\n",
       "53          '('     ' false'\n",
       "54       'json'         '],'\n",
       "55        'Rpc'          ' '\n",
       "56          '.'          '1'\n",
       "57    'request'      '));\\n'\n",
       "58          '('         '//'\n",
       "59       'true'         '  '\n",
       "60          ','     ' });\\n'\n",
       "61         ' ['         '//'\n",
       "62       'true'     ' });\\n'\n",
       "63          ','       '\"use'\n",
       "64     ' false'    ' strict'\n",
       "65         '],'         '\";'\n",
       "66          ' '        'END'\n",
       "67          '1'        'END'\n",
       "68        '));'        'END'\n",
       "69         '\\n'        'END'\n",
       "70         '//'        'END'\n",
       "71         '  '        'END'\n",
       "72       ' });'        'END'\n",
       "73         '\\n'        'END'\n",
       "74         '//'        'END'\n",
       "75       ' });'        'END'\n",
       "76         '\\n'        'END'\n",
       "77          '\"'        'END'\n",
       "78        'use'        'END'\n",
       "79    ' strict'        'END'\n",
       "80         '\";'        'END'"
      ]
     },
     "execution_count": 61,
     "metadata": {},
     "output_type": "execute_result"
    }
   ],
   "source": [
    "pd.DataFrame({\"starcoder\": [str(repr(t)) for t in starcoder_tokens], \"gpt4\": [str(repr(t)) for t in gpt4_tokens_pad]})"
   ]
  },
  {
   "cell_type": "code",
   "execution_count": null,
   "id": "05b5af66-a6a7-4d88-96c2-a8894a8515c4",
   "metadata": {},
   "outputs": [],
   "source": []
  }
 ],
 "metadata": {
  "kernelspec": {
   "display_name": "Python 3 (ipykernel)",
   "language": "python",
   "name": "python3"
  },
  "language_info": {
   "codemirror_mode": {
    "name": "ipython",
    "version": 3
   },
   "file_extension": ".py",
   "mimetype": "text/x-python",
   "name": "python",
   "nbconvert_exporter": "python",
   "pygments_lexer": "ipython3",
   "version": "3.9.12"
  }
 },
 "nbformat": 4,
 "nbformat_minor": 5
}
